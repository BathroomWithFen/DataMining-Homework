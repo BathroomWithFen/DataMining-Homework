{
  "nbformat": 4,
  "nbformat_minor": 0,
  "metadata": {
    "colab": {
      "provenance": []
    },
    "kernelspec": {
      "name": "python3",
      "display_name": "Python 3"
    },
    "language_info": {
      "name": "python"
    },
    "widgets": {
      "application/vnd.jupyter.widget-state+json": {
        "f8ebe8df06724067a7abb1040d085332": {
          "model_module": "@jupyter-widgets/controls",
          "model_name": "HBoxModel",
          "model_module_version": "1.5.0",
          "state": {
            "_dom_classes": [],
            "_model_module": "@jupyter-widgets/controls",
            "_model_module_version": "1.5.0",
            "_model_name": "HBoxModel",
            "_view_count": null,
            "_view_module": "@jupyter-widgets/controls",
            "_view_module_version": "1.5.0",
            "_view_name": "HBoxView",
            "box_style": "",
            "children": [
              "IPY_MODEL_e3f4971f320d430fbe0f502a54452816",
              "IPY_MODEL_ff60df4c31a847758aaa901f96d52f7a",
              "IPY_MODEL_89428df2bc2f4793975e306179651303"
            ],
            "layout": "IPY_MODEL_8b440e2378a6445baf7a30a5e4cfc38b"
          }
        },
        "e3f4971f320d430fbe0f502a54452816": {
          "model_module": "@jupyter-widgets/controls",
          "model_name": "HTMLModel",
          "model_module_version": "1.5.0",
          "state": {
            "_dom_classes": [],
            "_model_module": "@jupyter-widgets/controls",
            "_model_module_version": "1.5.0",
            "_model_name": "HTMLModel",
            "_view_count": null,
            "_view_module": "@jupyter-widgets/controls",
            "_view_module_version": "1.5.0",
            "_view_name": "HTMLView",
            "description": "",
            "description_tooltip": null,
            "layout": "IPY_MODEL_57516f7047bf40ff8ca6e3d426d3bc27",
            "placeholder": "​",
            "style": "IPY_MODEL_1f23ac8744f044eab64ac3a158d4b38a",
            "value": "100%"
          }
        },
        "ff60df4c31a847758aaa901f96d52f7a": {
          "model_module": "@jupyter-widgets/controls",
          "model_name": "FloatProgressModel",
          "model_module_version": "1.5.0",
          "state": {
            "_dom_classes": [],
            "_model_module": "@jupyter-widgets/controls",
            "_model_module_version": "1.5.0",
            "_model_name": "FloatProgressModel",
            "_view_count": null,
            "_view_module": "@jupyter-widgets/controls",
            "_view_module_version": "1.5.0",
            "_view_name": "ProgressView",
            "bar_style": "success",
            "description": "",
            "description_tooltip": null,
            "layout": "IPY_MODEL_5d682f0c60e1492fa7b798f9fd96fc5f",
            "max": 3,
            "min": 0,
            "orientation": "horizontal",
            "style": "IPY_MODEL_c6081b8e6e2e438f8aa10f4e73968024",
            "value": 3
          }
        },
        "89428df2bc2f4793975e306179651303": {
          "model_module": "@jupyter-widgets/controls",
          "model_name": "HTMLModel",
          "model_module_version": "1.5.0",
          "state": {
            "_dom_classes": [],
            "_model_module": "@jupyter-widgets/controls",
            "_model_module_version": "1.5.0",
            "_model_name": "HTMLModel",
            "_view_count": null,
            "_view_module": "@jupyter-widgets/controls",
            "_view_module_version": "1.5.0",
            "_view_name": "HTMLView",
            "description": "",
            "description_tooltip": null,
            "layout": "IPY_MODEL_cf28ff19a808414ebd053740b2e5c6a0",
            "placeholder": "​",
            "style": "IPY_MODEL_7bc978ab7b0746dfbbd6e8409532150e",
            "value": " 3/3 [00:00&lt;00:00, 16.77it/s]"
          }
        },
        "8b440e2378a6445baf7a30a5e4cfc38b": {
          "model_module": "@jupyter-widgets/base",
          "model_name": "LayoutModel",
          "model_module_version": "1.2.0",
          "state": {
            "_model_module": "@jupyter-widgets/base",
            "_model_module_version": "1.2.0",
            "_model_name": "LayoutModel",
            "_view_count": null,
            "_view_module": "@jupyter-widgets/base",
            "_view_module_version": "1.2.0",
            "_view_name": "LayoutView",
            "align_content": null,
            "align_items": null,
            "align_self": null,
            "border": null,
            "bottom": null,
            "display": null,
            "flex": null,
            "flex_flow": null,
            "grid_area": null,
            "grid_auto_columns": null,
            "grid_auto_flow": null,
            "grid_auto_rows": null,
            "grid_column": null,
            "grid_gap": null,
            "grid_row": null,
            "grid_template_areas": null,
            "grid_template_columns": null,
            "grid_template_rows": null,
            "height": null,
            "justify_content": null,
            "justify_items": null,
            "left": null,
            "margin": null,
            "max_height": null,
            "max_width": null,
            "min_height": null,
            "min_width": null,
            "object_fit": null,
            "object_position": null,
            "order": null,
            "overflow": null,
            "overflow_x": null,
            "overflow_y": null,
            "padding": null,
            "right": null,
            "top": null,
            "visibility": null,
            "width": null
          }
        },
        "57516f7047bf40ff8ca6e3d426d3bc27": {
          "model_module": "@jupyter-widgets/base",
          "model_name": "LayoutModel",
          "model_module_version": "1.2.0",
          "state": {
            "_model_module": "@jupyter-widgets/base",
            "_model_module_version": "1.2.0",
            "_model_name": "LayoutModel",
            "_view_count": null,
            "_view_module": "@jupyter-widgets/base",
            "_view_module_version": "1.2.0",
            "_view_name": "LayoutView",
            "align_content": null,
            "align_items": null,
            "align_self": null,
            "border": null,
            "bottom": null,
            "display": null,
            "flex": null,
            "flex_flow": null,
            "grid_area": null,
            "grid_auto_columns": null,
            "grid_auto_flow": null,
            "grid_auto_rows": null,
            "grid_column": null,
            "grid_gap": null,
            "grid_row": null,
            "grid_template_areas": null,
            "grid_template_columns": null,
            "grid_template_rows": null,
            "height": null,
            "justify_content": null,
            "justify_items": null,
            "left": null,
            "margin": null,
            "max_height": null,
            "max_width": null,
            "min_height": null,
            "min_width": null,
            "object_fit": null,
            "object_position": null,
            "order": null,
            "overflow": null,
            "overflow_x": null,
            "overflow_y": null,
            "padding": null,
            "right": null,
            "top": null,
            "visibility": null,
            "width": null
          }
        },
        "1f23ac8744f044eab64ac3a158d4b38a": {
          "model_module": "@jupyter-widgets/controls",
          "model_name": "DescriptionStyleModel",
          "model_module_version": "1.5.0",
          "state": {
            "_model_module": "@jupyter-widgets/controls",
            "_model_module_version": "1.5.0",
            "_model_name": "DescriptionStyleModel",
            "_view_count": null,
            "_view_module": "@jupyter-widgets/base",
            "_view_module_version": "1.2.0",
            "_view_name": "StyleView",
            "description_width": ""
          }
        },
        "5d682f0c60e1492fa7b798f9fd96fc5f": {
          "model_module": "@jupyter-widgets/base",
          "model_name": "LayoutModel",
          "model_module_version": "1.2.0",
          "state": {
            "_model_module": "@jupyter-widgets/base",
            "_model_module_version": "1.2.0",
            "_model_name": "LayoutModel",
            "_view_count": null,
            "_view_module": "@jupyter-widgets/base",
            "_view_module_version": "1.2.0",
            "_view_name": "LayoutView",
            "align_content": null,
            "align_items": null,
            "align_self": null,
            "border": null,
            "bottom": null,
            "display": null,
            "flex": null,
            "flex_flow": null,
            "grid_area": null,
            "grid_auto_columns": null,
            "grid_auto_flow": null,
            "grid_auto_rows": null,
            "grid_column": null,
            "grid_gap": null,
            "grid_row": null,
            "grid_template_areas": null,
            "grid_template_columns": null,
            "grid_template_rows": null,
            "height": null,
            "justify_content": null,
            "justify_items": null,
            "left": null,
            "margin": null,
            "max_height": null,
            "max_width": null,
            "min_height": null,
            "min_width": null,
            "object_fit": null,
            "object_position": null,
            "order": null,
            "overflow": null,
            "overflow_x": null,
            "overflow_y": null,
            "padding": null,
            "right": null,
            "top": null,
            "visibility": null,
            "width": null
          }
        },
        "c6081b8e6e2e438f8aa10f4e73968024": {
          "model_module": "@jupyter-widgets/controls",
          "model_name": "ProgressStyleModel",
          "model_module_version": "1.5.0",
          "state": {
            "_model_module": "@jupyter-widgets/controls",
            "_model_module_version": "1.5.0",
            "_model_name": "ProgressStyleModel",
            "_view_count": null,
            "_view_module": "@jupyter-widgets/base",
            "_view_module_version": "1.2.0",
            "_view_name": "StyleView",
            "bar_color": null,
            "description_width": ""
          }
        },
        "cf28ff19a808414ebd053740b2e5c6a0": {
          "model_module": "@jupyter-widgets/base",
          "model_name": "LayoutModel",
          "model_module_version": "1.2.0",
          "state": {
            "_model_module": "@jupyter-widgets/base",
            "_model_module_version": "1.2.0",
            "_model_name": "LayoutModel",
            "_view_count": null,
            "_view_module": "@jupyter-widgets/base",
            "_view_module_version": "1.2.0",
            "_view_name": "LayoutView",
            "align_content": null,
            "align_items": null,
            "align_self": null,
            "border": null,
            "bottom": null,
            "display": null,
            "flex": null,
            "flex_flow": null,
            "grid_area": null,
            "grid_auto_columns": null,
            "grid_auto_flow": null,
            "grid_auto_rows": null,
            "grid_column": null,
            "grid_gap": null,
            "grid_row": null,
            "grid_template_areas": null,
            "grid_template_columns": null,
            "grid_template_rows": null,
            "height": null,
            "justify_content": null,
            "justify_items": null,
            "left": null,
            "margin": null,
            "max_height": null,
            "max_width": null,
            "min_height": null,
            "min_width": null,
            "object_fit": null,
            "object_position": null,
            "order": null,
            "overflow": null,
            "overflow_x": null,
            "overflow_y": null,
            "padding": null,
            "right": null,
            "top": null,
            "visibility": null,
            "width": null
          }
        },
        "7bc978ab7b0746dfbbd6e8409532150e": {
          "model_module": "@jupyter-widgets/controls",
          "model_name": "DescriptionStyleModel",
          "model_module_version": "1.5.0",
          "state": {
            "_model_module": "@jupyter-widgets/controls",
            "_model_module_version": "1.5.0",
            "_model_name": "DescriptionStyleModel",
            "_view_count": null,
            "_view_module": "@jupyter-widgets/base",
            "_view_module_version": "1.2.0",
            "_view_name": "StyleView",
            "description_width": ""
          }
        },
        "c5cf0fc216cb4364bc71b46de5e7f10c": {
          "model_module": "@jupyter-widgets/controls",
          "model_name": "HBoxModel",
          "model_module_version": "1.5.0",
          "state": {
            "_dom_classes": [],
            "_model_module": "@jupyter-widgets/controls",
            "_model_module_version": "1.5.0",
            "_model_name": "HBoxModel",
            "_view_count": null,
            "_view_module": "@jupyter-widgets/controls",
            "_view_module_version": "1.5.0",
            "_view_name": "HBoxView",
            "box_style": "",
            "children": [
              "IPY_MODEL_a32e5ce5124a4b47ad16a4f651328828",
              "IPY_MODEL_453ab411456947fea2e0a8e9316cb8c5",
              "IPY_MODEL_79ff32a98e134b8d8c4e15c41d374f55"
            ],
            "layout": "IPY_MODEL_80031048318d4b30af6b039c4231e7cf"
          }
        },
        "a32e5ce5124a4b47ad16a4f651328828": {
          "model_module": "@jupyter-widgets/controls",
          "model_name": "HTMLModel",
          "model_module_version": "1.5.0",
          "state": {
            "_dom_classes": [],
            "_model_module": "@jupyter-widgets/controls",
            "_model_module_version": "1.5.0",
            "_model_name": "HTMLModel",
            "_view_count": null,
            "_view_module": "@jupyter-widgets/controls",
            "_view_module_version": "1.5.0",
            "_view_name": "HTMLView",
            "description": "",
            "description_tooltip": null,
            "layout": "IPY_MODEL_75e79d67199646b794d8af2794970407",
            "placeholder": "​",
            "style": "IPY_MODEL_512b74cc617e4dbe8ff4c16b4167751f",
            "value": "100%"
          }
        },
        "453ab411456947fea2e0a8e9316cb8c5": {
          "model_module": "@jupyter-widgets/controls",
          "model_name": "FloatProgressModel",
          "model_module_version": "1.5.0",
          "state": {
            "_dom_classes": [],
            "_model_module": "@jupyter-widgets/controls",
            "_model_module_version": "1.5.0",
            "_model_name": "FloatProgressModel",
            "_view_count": null,
            "_view_module": "@jupyter-widgets/controls",
            "_view_module_version": "1.5.0",
            "_view_name": "ProgressView",
            "bar_style": "success",
            "description": "",
            "description_tooltip": null,
            "layout": "IPY_MODEL_1f20e2cdddca415490345804a66709eb",
            "max": 6000,
            "min": 0,
            "orientation": "horizontal",
            "style": "IPY_MODEL_55a52c206ba04258b0f5a073f5dc22fc",
            "value": 6000
          }
        },
        "79ff32a98e134b8d8c4e15c41d374f55": {
          "model_module": "@jupyter-widgets/controls",
          "model_name": "HTMLModel",
          "model_module_version": "1.5.0",
          "state": {
            "_dom_classes": [],
            "_model_module": "@jupyter-widgets/controls",
            "_model_module_version": "1.5.0",
            "_model_name": "HTMLModel",
            "_view_count": null,
            "_view_module": "@jupyter-widgets/controls",
            "_view_module_version": "1.5.0",
            "_view_name": "HTMLView",
            "description": "",
            "description_tooltip": null,
            "layout": "IPY_MODEL_d7bec879175041ffa8b3cbf55726050f",
            "placeholder": "​",
            "style": "IPY_MODEL_3c2091086b064337a68095d87861314b",
            "value": " 6000/6000 [00:08&lt;00:00, 289.17it/s]"
          }
        },
        "80031048318d4b30af6b039c4231e7cf": {
          "model_module": "@jupyter-widgets/base",
          "model_name": "LayoutModel",
          "model_module_version": "1.2.0",
          "state": {
            "_model_module": "@jupyter-widgets/base",
            "_model_module_version": "1.2.0",
            "_model_name": "LayoutModel",
            "_view_count": null,
            "_view_module": "@jupyter-widgets/base",
            "_view_module_version": "1.2.0",
            "_view_name": "LayoutView",
            "align_content": null,
            "align_items": null,
            "align_self": null,
            "border": null,
            "bottom": null,
            "display": null,
            "flex": null,
            "flex_flow": null,
            "grid_area": null,
            "grid_auto_columns": null,
            "grid_auto_flow": null,
            "grid_auto_rows": null,
            "grid_column": null,
            "grid_gap": null,
            "grid_row": null,
            "grid_template_areas": null,
            "grid_template_columns": null,
            "grid_template_rows": null,
            "height": null,
            "justify_content": null,
            "justify_items": null,
            "left": null,
            "margin": null,
            "max_height": null,
            "max_width": null,
            "min_height": null,
            "min_width": null,
            "object_fit": null,
            "object_position": null,
            "order": null,
            "overflow": null,
            "overflow_x": null,
            "overflow_y": null,
            "padding": null,
            "right": null,
            "top": null,
            "visibility": null,
            "width": null
          }
        },
        "75e79d67199646b794d8af2794970407": {
          "model_module": "@jupyter-widgets/base",
          "model_name": "LayoutModel",
          "model_module_version": "1.2.0",
          "state": {
            "_model_module": "@jupyter-widgets/base",
            "_model_module_version": "1.2.0",
            "_model_name": "LayoutModel",
            "_view_count": null,
            "_view_module": "@jupyter-widgets/base",
            "_view_module_version": "1.2.0",
            "_view_name": "LayoutView",
            "align_content": null,
            "align_items": null,
            "align_self": null,
            "border": null,
            "bottom": null,
            "display": null,
            "flex": null,
            "flex_flow": null,
            "grid_area": null,
            "grid_auto_columns": null,
            "grid_auto_flow": null,
            "grid_auto_rows": null,
            "grid_column": null,
            "grid_gap": null,
            "grid_row": null,
            "grid_template_areas": null,
            "grid_template_columns": null,
            "grid_template_rows": null,
            "height": null,
            "justify_content": null,
            "justify_items": null,
            "left": null,
            "margin": null,
            "max_height": null,
            "max_width": null,
            "min_height": null,
            "min_width": null,
            "object_fit": null,
            "object_position": null,
            "order": null,
            "overflow": null,
            "overflow_x": null,
            "overflow_y": null,
            "padding": null,
            "right": null,
            "top": null,
            "visibility": null,
            "width": null
          }
        },
        "512b74cc617e4dbe8ff4c16b4167751f": {
          "model_module": "@jupyter-widgets/controls",
          "model_name": "DescriptionStyleModel",
          "model_module_version": "1.5.0",
          "state": {
            "_model_module": "@jupyter-widgets/controls",
            "_model_module_version": "1.5.0",
            "_model_name": "DescriptionStyleModel",
            "_view_count": null,
            "_view_module": "@jupyter-widgets/base",
            "_view_module_version": "1.2.0",
            "_view_name": "StyleView",
            "description_width": ""
          }
        },
        "1f20e2cdddca415490345804a66709eb": {
          "model_module": "@jupyter-widgets/base",
          "model_name": "LayoutModel",
          "model_module_version": "1.2.0",
          "state": {
            "_model_module": "@jupyter-widgets/base",
            "_model_module_version": "1.2.0",
            "_model_name": "LayoutModel",
            "_view_count": null,
            "_view_module": "@jupyter-widgets/base",
            "_view_module_version": "1.2.0",
            "_view_name": "LayoutView",
            "align_content": null,
            "align_items": null,
            "align_self": null,
            "border": null,
            "bottom": null,
            "display": null,
            "flex": null,
            "flex_flow": null,
            "grid_area": null,
            "grid_auto_columns": null,
            "grid_auto_flow": null,
            "grid_auto_rows": null,
            "grid_column": null,
            "grid_gap": null,
            "grid_row": null,
            "grid_template_areas": null,
            "grid_template_columns": null,
            "grid_template_rows": null,
            "height": null,
            "justify_content": null,
            "justify_items": null,
            "left": null,
            "margin": null,
            "max_height": null,
            "max_width": null,
            "min_height": null,
            "min_width": null,
            "object_fit": null,
            "object_position": null,
            "order": null,
            "overflow": null,
            "overflow_x": null,
            "overflow_y": null,
            "padding": null,
            "right": null,
            "top": null,
            "visibility": null,
            "width": null
          }
        },
        "55a52c206ba04258b0f5a073f5dc22fc": {
          "model_module": "@jupyter-widgets/controls",
          "model_name": "ProgressStyleModel",
          "model_module_version": "1.5.0",
          "state": {
            "_model_module": "@jupyter-widgets/controls",
            "_model_module_version": "1.5.0",
            "_model_name": "ProgressStyleModel",
            "_view_count": null,
            "_view_module": "@jupyter-widgets/base",
            "_view_module_version": "1.2.0",
            "_view_name": "StyleView",
            "bar_color": null,
            "description_width": ""
          }
        },
        "d7bec879175041ffa8b3cbf55726050f": {
          "model_module": "@jupyter-widgets/base",
          "model_name": "LayoutModel",
          "model_module_version": "1.2.0",
          "state": {
            "_model_module": "@jupyter-widgets/base",
            "_model_module_version": "1.2.0",
            "_model_name": "LayoutModel",
            "_view_count": null,
            "_view_module": "@jupyter-widgets/base",
            "_view_module_version": "1.2.0",
            "_view_name": "LayoutView",
            "align_content": null,
            "align_items": null,
            "align_self": null,
            "border": null,
            "bottom": null,
            "display": null,
            "flex": null,
            "flex_flow": null,
            "grid_area": null,
            "grid_auto_columns": null,
            "grid_auto_flow": null,
            "grid_auto_rows": null,
            "grid_column": null,
            "grid_gap": null,
            "grid_row": null,
            "grid_template_areas": null,
            "grid_template_columns": null,
            "grid_template_rows": null,
            "height": null,
            "justify_content": null,
            "justify_items": null,
            "left": null,
            "margin": null,
            "max_height": null,
            "max_width": null,
            "min_height": null,
            "min_width": null,
            "object_fit": null,
            "object_position": null,
            "order": null,
            "overflow": null,
            "overflow_x": null,
            "overflow_y": null,
            "padding": null,
            "right": null,
            "top": null,
            "visibility": null,
            "width": null
          }
        },
        "3c2091086b064337a68095d87861314b": {
          "model_module": "@jupyter-widgets/controls",
          "model_name": "DescriptionStyleModel",
          "model_module_version": "1.5.0",
          "state": {
            "_model_module": "@jupyter-widgets/controls",
            "_model_module_version": "1.5.0",
            "_model_name": "DescriptionStyleModel",
            "_view_count": null,
            "_view_module": "@jupyter-widgets/base",
            "_view_module_version": "1.2.0",
            "_view_name": "StyleView",
            "description_width": ""
          }
        },
        "e42c2da33208459fa22285923c850b2a": {
          "model_module": "@jupyter-widgets/controls",
          "model_name": "HBoxModel",
          "model_module_version": "1.5.0",
          "state": {
            "_dom_classes": [],
            "_model_module": "@jupyter-widgets/controls",
            "_model_module_version": "1.5.0",
            "_model_name": "HBoxModel",
            "_view_count": null,
            "_view_module": "@jupyter-widgets/controls",
            "_view_module_version": "1.5.0",
            "_view_name": "HBoxView",
            "box_style": "",
            "children": [
              "IPY_MODEL_84918b72dd6a4e5aa5002f91598fb873",
              "IPY_MODEL_94129183697e477a8e82ef2cc37fb8fd",
              "IPY_MODEL_b42db8de60504c34b1f46f4f4c61d7c9"
            ],
            "layout": "IPY_MODEL_9204399545684118a276845585a1db28"
          }
        },
        "84918b72dd6a4e5aa5002f91598fb873": {
          "model_module": "@jupyter-widgets/controls",
          "model_name": "HTMLModel",
          "model_module_version": "1.5.0",
          "state": {
            "_dom_classes": [],
            "_model_module": "@jupyter-widgets/controls",
            "_model_module_version": "1.5.0",
            "_model_name": "HTMLModel",
            "_view_count": null,
            "_view_module": "@jupyter-widgets/controls",
            "_view_module_version": "1.5.0",
            "_view_name": "HTMLView",
            "description": "",
            "description_tooltip": null,
            "layout": "IPY_MODEL_c7f21e68a34449eaa8709ac88a356ae3",
            "placeholder": "​",
            "style": "IPY_MODEL_414900db23a34b0996ae32e36197ec8e",
            "value": "100%"
          }
        },
        "94129183697e477a8e82ef2cc37fb8fd": {
          "model_module": "@jupyter-widgets/controls",
          "model_name": "FloatProgressModel",
          "model_module_version": "1.5.0",
          "state": {
            "_dom_classes": [],
            "_model_module": "@jupyter-widgets/controls",
            "_model_module_version": "1.5.0",
            "_model_name": "FloatProgressModel",
            "_view_count": null,
            "_view_module": "@jupyter-widgets/controls",
            "_view_module_version": "1.5.0",
            "_view_name": "ProgressView",
            "bar_style": "success",
            "description": "",
            "description_tooltip": null,
            "layout": "IPY_MODEL_210e348389f345b99d72ace3b03cc854",
            "max": 6000,
            "min": 0,
            "orientation": "horizontal",
            "style": "IPY_MODEL_422c4d67de844355a259be317b8448c6",
            "value": 6000
          }
        },
        "b42db8de60504c34b1f46f4f4c61d7c9": {
          "model_module": "@jupyter-widgets/controls",
          "model_name": "HTMLModel",
          "model_module_version": "1.5.0",
          "state": {
            "_dom_classes": [],
            "_model_module": "@jupyter-widgets/controls",
            "_model_module_version": "1.5.0",
            "_model_name": "HTMLModel",
            "_view_count": null,
            "_view_module": "@jupyter-widgets/controls",
            "_view_module_version": "1.5.0",
            "_view_name": "HTMLView",
            "description": "",
            "description_tooltip": null,
            "layout": "IPY_MODEL_2674b39d4d2045ddaae8e333c4fa3a24",
            "placeholder": "​",
            "style": "IPY_MODEL_dbfbc73d59dc4d88b8eac754677d7dcf",
            "value": " 6000/6000 [00:25&lt;00:00, 145.27it/s]"
          }
        },
        "9204399545684118a276845585a1db28": {
          "model_module": "@jupyter-widgets/base",
          "model_name": "LayoutModel",
          "model_module_version": "1.2.0",
          "state": {
            "_model_module": "@jupyter-widgets/base",
            "_model_module_version": "1.2.0",
            "_model_name": "LayoutModel",
            "_view_count": null,
            "_view_module": "@jupyter-widgets/base",
            "_view_module_version": "1.2.0",
            "_view_name": "LayoutView",
            "align_content": null,
            "align_items": null,
            "align_self": null,
            "border": null,
            "bottom": null,
            "display": null,
            "flex": null,
            "flex_flow": null,
            "grid_area": null,
            "grid_auto_columns": null,
            "grid_auto_flow": null,
            "grid_auto_rows": null,
            "grid_column": null,
            "grid_gap": null,
            "grid_row": null,
            "grid_template_areas": null,
            "grid_template_columns": null,
            "grid_template_rows": null,
            "height": null,
            "justify_content": null,
            "justify_items": null,
            "left": null,
            "margin": null,
            "max_height": null,
            "max_width": null,
            "min_height": null,
            "min_width": null,
            "object_fit": null,
            "object_position": null,
            "order": null,
            "overflow": null,
            "overflow_x": null,
            "overflow_y": null,
            "padding": null,
            "right": null,
            "top": null,
            "visibility": null,
            "width": null
          }
        },
        "c7f21e68a34449eaa8709ac88a356ae3": {
          "model_module": "@jupyter-widgets/base",
          "model_name": "LayoutModel",
          "model_module_version": "1.2.0",
          "state": {
            "_model_module": "@jupyter-widgets/base",
            "_model_module_version": "1.2.0",
            "_model_name": "LayoutModel",
            "_view_count": null,
            "_view_module": "@jupyter-widgets/base",
            "_view_module_version": "1.2.0",
            "_view_name": "LayoutView",
            "align_content": null,
            "align_items": null,
            "align_self": null,
            "border": null,
            "bottom": null,
            "display": null,
            "flex": null,
            "flex_flow": null,
            "grid_area": null,
            "grid_auto_columns": null,
            "grid_auto_flow": null,
            "grid_auto_rows": null,
            "grid_column": null,
            "grid_gap": null,
            "grid_row": null,
            "grid_template_areas": null,
            "grid_template_columns": null,
            "grid_template_rows": null,
            "height": null,
            "justify_content": null,
            "justify_items": null,
            "left": null,
            "margin": null,
            "max_height": null,
            "max_width": null,
            "min_height": null,
            "min_width": null,
            "object_fit": null,
            "object_position": null,
            "order": null,
            "overflow": null,
            "overflow_x": null,
            "overflow_y": null,
            "padding": null,
            "right": null,
            "top": null,
            "visibility": null,
            "width": null
          }
        },
        "414900db23a34b0996ae32e36197ec8e": {
          "model_module": "@jupyter-widgets/controls",
          "model_name": "DescriptionStyleModel",
          "model_module_version": "1.5.0",
          "state": {
            "_model_module": "@jupyter-widgets/controls",
            "_model_module_version": "1.5.0",
            "_model_name": "DescriptionStyleModel",
            "_view_count": null,
            "_view_module": "@jupyter-widgets/base",
            "_view_module_version": "1.2.0",
            "_view_name": "StyleView",
            "description_width": ""
          }
        },
        "210e348389f345b99d72ace3b03cc854": {
          "model_module": "@jupyter-widgets/base",
          "model_name": "LayoutModel",
          "model_module_version": "1.2.0",
          "state": {
            "_model_module": "@jupyter-widgets/base",
            "_model_module_version": "1.2.0",
            "_model_name": "LayoutModel",
            "_view_count": null,
            "_view_module": "@jupyter-widgets/base",
            "_view_module_version": "1.2.0",
            "_view_name": "LayoutView",
            "align_content": null,
            "align_items": null,
            "align_self": null,
            "border": null,
            "bottom": null,
            "display": null,
            "flex": null,
            "flex_flow": null,
            "grid_area": null,
            "grid_auto_columns": null,
            "grid_auto_flow": null,
            "grid_auto_rows": null,
            "grid_column": null,
            "grid_gap": null,
            "grid_row": null,
            "grid_template_areas": null,
            "grid_template_columns": null,
            "grid_template_rows": null,
            "height": null,
            "justify_content": null,
            "justify_items": null,
            "left": null,
            "margin": null,
            "max_height": null,
            "max_width": null,
            "min_height": null,
            "min_width": null,
            "object_fit": null,
            "object_position": null,
            "order": null,
            "overflow": null,
            "overflow_x": null,
            "overflow_y": null,
            "padding": null,
            "right": null,
            "top": null,
            "visibility": null,
            "width": null
          }
        },
        "422c4d67de844355a259be317b8448c6": {
          "model_module": "@jupyter-widgets/controls",
          "model_name": "ProgressStyleModel",
          "model_module_version": "1.5.0",
          "state": {
            "_model_module": "@jupyter-widgets/controls",
            "_model_module_version": "1.5.0",
            "_model_name": "ProgressStyleModel",
            "_view_count": null,
            "_view_module": "@jupyter-widgets/base",
            "_view_module_version": "1.2.0",
            "_view_name": "StyleView",
            "bar_color": null,
            "description_width": ""
          }
        },
        "2674b39d4d2045ddaae8e333c4fa3a24": {
          "model_module": "@jupyter-widgets/base",
          "model_name": "LayoutModel",
          "model_module_version": "1.2.0",
          "state": {
            "_model_module": "@jupyter-widgets/base",
            "_model_module_version": "1.2.0",
            "_model_name": "LayoutModel",
            "_view_count": null,
            "_view_module": "@jupyter-widgets/base",
            "_view_module_version": "1.2.0",
            "_view_name": "LayoutView",
            "align_content": null,
            "align_items": null,
            "align_self": null,
            "border": null,
            "bottom": null,
            "display": null,
            "flex": null,
            "flex_flow": null,
            "grid_area": null,
            "grid_auto_columns": null,
            "grid_auto_flow": null,
            "grid_auto_rows": null,
            "grid_column": null,
            "grid_gap": null,
            "grid_row": null,
            "grid_template_areas": null,
            "grid_template_columns": null,
            "grid_template_rows": null,
            "height": null,
            "justify_content": null,
            "justify_items": null,
            "left": null,
            "margin": null,
            "max_height": null,
            "max_width": null,
            "min_height": null,
            "min_width": null,
            "object_fit": null,
            "object_position": null,
            "order": null,
            "overflow": null,
            "overflow_x": null,
            "overflow_y": null,
            "padding": null,
            "right": null,
            "top": null,
            "visibility": null,
            "width": null
          }
        },
        "dbfbc73d59dc4d88b8eac754677d7dcf": {
          "model_module": "@jupyter-widgets/controls",
          "model_name": "DescriptionStyleModel",
          "model_module_version": "1.5.0",
          "state": {
            "_model_module": "@jupyter-widgets/controls",
            "_model_module_version": "1.5.0",
            "_model_name": "DescriptionStyleModel",
            "_view_count": null,
            "_view_module": "@jupyter-widgets/base",
            "_view_module_version": "1.2.0",
            "_view_name": "StyleView",
            "description_width": ""
          }
        },
        "441e9efa7d21420cb11cf9b0f2c25525": {
          "model_module": "@jupyter-widgets/controls",
          "model_name": "HBoxModel",
          "model_module_version": "1.5.0",
          "state": {
            "_dom_classes": [],
            "_model_module": "@jupyter-widgets/controls",
            "_model_module_version": "1.5.0",
            "_model_name": "HBoxModel",
            "_view_count": null,
            "_view_module": "@jupyter-widgets/controls",
            "_view_module_version": "1.5.0",
            "_view_name": "HBoxView",
            "box_style": "",
            "children": [
              "IPY_MODEL_6aa9776c3ed84593b872e28849c52a29",
              "IPY_MODEL_489f31660d5147839353ced3103f591a",
              "IPY_MODEL_51c0909931b84e469828b3622de6eb15"
            ],
            "layout": "IPY_MODEL_bc69bd0a80d44384a17848527aac31f1"
          }
        },
        "6aa9776c3ed84593b872e28849c52a29": {
          "model_module": "@jupyter-widgets/controls",
          "model_name": "HTMLModel",
          "model_module_version": "1.5.0",
          "state": {
            "_dom_classes": [],
            "_model_module": "@jupyter-widgets/controls",
            "_model_module_version": "1.5.0",
            "_model_name": "HTMLModel",
            "_view_count": null,
            "_view_module": "@jupyter-widgets/controls",
            "_view_module_version": "1.5.0",
            "_view_name": "HTMLView",
            "description": "",
            "description_tooltip": null,
            "layout": "IPY_MODEL_b0260fbbf4074828bbc1b31941335cd0",
            "placeholder": "​",
            "style": "IPY_MODEL_bac1d33c1e734226a4b2be8f89d2d419",
            "value": "100%"
          }
        },
        "489f31660d5147839353ced3103f591a": {
          "model_module": "@jupyter-widgets/controls",
          "model_name": "FloatProgressModel",
          "model_module_version": "1.5.0",
          "state": {
            "_dom_classes": [],
            "_model_module": "@jupyter-widgets/controls",
            "_model_module_version": "1.5.0",
            "_model_name": "FloatProgressModel",
            "_view_count": null,
            "_view_module": "@jupyter-widgets/controls",
            "_view_module_version": "1.5.0",
            "_view_name": "ProgressView",
            "bar_style": "success",
            "description": "",
            "description_tooltip": null,
            "layout": "IPY_MODEL_0da303edfe73450dac9cf6816f4b5c99",
            "max": 6000,
            "min": 0,
            "orientation": "horizontal",
            "style": "IPY_MODEL_4e77bb19fffb415da7db24a6a7d761ed",
            "value": 6000
          }
        },
        "51c0909931b84e469828b3622de6eb15": {
          "model_module": "@jupyter-widgets/controls",
          "model_name": "HTMLModel",
          "model_module_version": "1.5.0",
          "state": {
            "_dom_classes": [],
            "_model_module": "@jupyter-widgets/controls",
            "_model_module_version": "1.5.0",
            "_model_name": "HTMLModel",
            "_view_count": null,
            "_view_module": "@jupyter-widgets/controls",
            "_view_module_version": "1.5.0",
            "_view_name": "HTMLView",
            "description": "",
            "description_tooltip": null,
            "layout": "IPY_MODEL_960e3cab02d24acfa6552eff2de7438a",
            "placeholder": "​",
            "style": "IPY_MODEL_12fc93356c30451e91d78185e76108cc",
            "value": " 6000/6000 [00:07&lt;00:00, 522.37it/s]"
          }
        },
        "bc69bd0a80d44384a17848527aac31f1": {
          "model_module": "@jupyter-widgets/base",
          "model_name": "LayoutModel",
          "model_module_version": "1.2.0",
          "state": {
            "_model_module": "@jupyter-widgets/base",
            "_model_module_version": "1.2.0",
            "_model_name": "LayoutModel",
            "_view_count": null,
            "_view_module": "@jupyter-widgets/base",
            "_view_module_version": "1.2.0",
            "_view_name": "LayoutView",
            "align_content": null,
            "align_items": null,
            "align_self": null,
            "border": null,
            "bottom": null,
            "display": null,
            "flex": null,
            "flex_flow": null,
            "grid_area": null,
            "grid_auto_columns": null,
            "grid_auto_flow": null,
            "grid_auto_rows": null,
            "grid_column": null,
            "grid_gap": null,
            "grid_row": null,
            "grid_template_areas": null,
            "grid_template_columns": null,
            "grid_template_rows": null,
            "height": null,
            "justify_content": null,
            "justify_items": null,
            "left": null,
            "margin": null,
            "max_height": null,
            "max_width": null,
            "min_height": null,
            "min_width": null,
            "object_fit": null,
            "object_position": null,
            "order": null,
            "overflow": null,
            "overflow_x": null,
            "overflow_y": null,
            "padding": null,
            "right": null,
            "top": null,
            "visibility": null,
            "width": null
          }
        },
        "b0260fbbf4074828bbc1b31941335cd0": {
          "model_module": "@jupyter-widgets/base",
          "model_name": "LayoutModel",
          "model_module_version": "1.2.0",
          "state": {
            "_model_module": "@jupyter-widgets/base",
            "_model_module_version": "1.2.0",
            "_model_name": "LayoutModel",
            "_view_count": null,
            "_view_module": "@jupyter-widgets/base",
            "_view_module_version": "1.2.0",
            "_view_name": "LayoutView",
            "align_content": null,
            "align_items": null,
            "align_self": null,
            "border": null,
            "bottom": null,
            "display": null,
            "flex": null,
            "flex_flow": null,
            "grid_area": null,
            "grid_auto_columns": null,
            "grid_auto_flow": null,
            "grid_auto_rows": null,
            "grid_column": null,
            "grid_gap": null,
            "grid_row": null,
            "grid_template_areas": null,
            "grid_template_columns": null,
            "grid_template_rows": null,
            "height": null,
            "justify_content": null,
            "justify_items": null,
            "left": null,
            "margin": null,
            "max_height": null,
            "max_width": null,
            "min_height": null,
            "min_width": null,
            "object_fit": null,
            "object_position": null,
            "order": null,
            "overflow": null,
            "overflow_x": null,
            "overflow_y": null,
            "padding": null,
            "right": null,
            "top": null,
            "visibility": null,
            "width": null
          }
        },
        "bac1d33c1e734226a4b2be8f89d2d419": {
          "model_module": "@jupyter-widgets/controls",
          "model_name": "DescriptionStyleModel",
          "model_module_version": "1.5.0",
          "state": {
            "_model_module": "@jupyter-widgets/controls",
            "_model_module_version": "1.5.0",
            "_model_name": "DescriptionStyleModel",
            "_view_count": null,
            "_view_module": "@jupyter-widgets/base",
            "_view_module_version": "1.2.0",
            "_view_name": "StyleView",
            "description_width": ""
          }
        },
        "0da303edfe73450dac9cf6816f4b5c99": {
          "model_module": "@jupyter-widgets/base",
          "model_name": "LayoutModel",
          "model_module_version": "1.2.0",
          "state": {
            "_model_module": "@jupyter-widgets/base",
            "_model_module_version": "1.2.0",
            "_model_name": "LayoutModel",
            "_view_count": null,
            "_view_module": "@jupyter-widgets/base",
            "_view_module_version": "1.2.0",
            "_view_name": "LayoutView",
            "align_content": null,
            "align_items": null,
            "align_self": null,
            "border": null,
            "bottom": null,
            "display": null,
            "flex": null,
            "flex_flow": null,
            "grid_area": null,
            "grid_auto_columns": null,
            "grid_auto_flow": null,
            "grid_auto_rows": null,
            "grid_column": null,
            "grid_gap": null,
            "grid_row": null,
            "grid_template_areas": null,
            "grid_template_columns": null,
            "grid_template_rows": null,
            "height": null,
            "justify_content": null,
            "justify_items": null,
            "left": null,
            "margin": null,
            "max_height": null,
            "max_width": null,
            "min_height": null,
            "min_width": null,
            "object_fit": null,
            "object_position": null,
            "order": null,
            "overflow": null,
            "overflow_x": null,
            "overflow_y": null,
            "padding": null,
            "right": null,
            "top": null,
            "visibility": null,
            "width": null
          }
        },
        "4e77bb19fffb415da7db24a6a7d761ed": {
          "model_module": "@jupyter-widgets/controls",
          "model_name": "ProgressStyleModel",
          "model_module_version": "1.5.0",
          "state": {
            "_model_module": "@jupyter-widgets/controls",
            "_model_module_version": "1.5.0",
            "_model_name": "ProgressStyleModel",
            "_view_count": null,
            "_view_module": "@jupyter-widgets/base",
            "_view_module_version": "1.2.0",
            "_view_name": "StyleView",
            "bar_color": null,
            "description_width": ""
          }
        },
        "960e3cab02d24acfa6552eff2de7438a": {
          "model_module": "@jupyter-widgets/base",
          "model_name": "LayoutModel",
          "model_module_version": "1.2.0",
          "state": {
            "_model_module": "@jupyter-widgets/base",
            "_model_module_version": "1.2.0",
            "_model_name": "LayoutModel",
            "_view_count": null,
            "_view_module": "@jupyter-widgets/base",
            "_view_module_version": "1.2.0",
            "_view_name": "LayoutView",
            "align_content": null,
            "align_items": null,
            "align_self": null,
            "border": null,
            "bottom": null,
            "display": null,
            "flex": null,
            "flex_flow": null,
            "grid_area": null,
            "grid_auto_columns": null,
            "grid_auto_flow": null,
            "grid_auto_rows": null,
            "grid_column": null,
            "grid_gap": null,
            "grid_row": null,
            "grid_template_areas": null,
            "grid_template_columns": null,
            "grid_template_rows": null,
            "height": null,
            "justify_content": null,
            "justify_items": null,
            "left": null,
            "margin": null,
            "max_height": null,
            "max_width": null,
            "min_height": null,
            "min_width": null,
            "object_fit": null,
            "object_position": null,
            "order": null,
            "overflow": null,
            "overflow_x": null,
            "overflow_y": null,
            "padding": null,
            "right": null,
            "top": null,
            "visibility": null,
            "width": null
          }
        },
        "12fc93356c30451e91d78185e76108cc": {
          "model_module": "@jupyter-widgets/controls",
          "model_name": "DescriptionStyleModel",
          "model_module_version": "1.5.0",
          "state": {
            "_model_module": "@jupyter-widgets/controls",
            "_model_module_version": "1.5.0",
            "_model_name": "DescriptionStyleModel",
            "_view_count": null,
            "_view_module": "@jupyter-widgets/base",
            "_view_module_version": "1.2.0",
            "_view_name": "StyleView",
            "description_width": ""
          }
        }
      }
    }
  },
  "cells": [
    {
      "cell_type": "code",
      "execution_count": 16,
      "metadata": {
        "colab": {
          "base_uri": "https://localhost:8080/"
        },
        "id": "_qNza1ukSOwW",
        "outputId": "8fe84c30-188a-4b04-d7bc-35edf0e43e23"
      },
      "outputs": [
        {
          "output_type": "execute_result",
          "data": {
            "text/plain": [
              "(120417, 4)"
            ]
          },
          "metadata": {},
          "execution_count": 16
        }
      ],
      "source": [
        "import pandas as pd\n",
        "import numpy as np\n",
        "from tqdm.auto import tqdm, trange\n",
        "data = pd.read_csv(\"/content/train.csv\")\n",
        "data.shape\n",
        "\n",
        "\n"
      ]
    },
    {
      "cell_type": "code",
      "source": [
        "data = data[:100000]\n",
        "data.head(5)"
      ],
      "metadata": {
        "colab": {
          "base_uri": "https://localhost:8080/",
          "height": 206
        },
        "id": "dStAkD9xszv1",
        "outputId": "9ca8d1da-c5cc-49d9-f0c2-3262c3631793"
      },
      "execution_count": 17,
      "outputs": [
        {
          "output_type": "execute_result",
          "data": {
            "text/plain": [
              "                                               title  \\\n",
              "0  ВЕРНИДУБ: «Наносимо 25 ударів, 15 у ворота, а ...   \n",
              "1        У \"Київстар\" заявляють, що їх обшукала ДФС    \n",
              "2   В 2016 році 1% найзаможніших людей вперше ста...   \n",
              "3  Шакіл О’Ніл продав шикарний маєток у Флориді в...   \n",
              "4  У «заблокованій» СБУ B2B Jewelry заявили, що п...   \n",
              "\n",
              "                                                text  \\\n",
              "0  Головний тренер солігорського «Шахтаря» Юрій В...   \n",
              "1  Про це на своїй сторінці у Facebook написав пр...   \n",
              "2  Про це повідомляється в доповіді некомерційної...   \n",
              "3   Легенда НБА Шакіл О’Ніл продав свій маєток у ...   \n",
              "4   Засновник фінансової піраміди B2B Jewelry Мик...   \n",
              "\n",
              "                                                tags  target  \n",
              "0  Футбол|Інші новини|Шахтар Солігорськ|Юрій Верн...   спорт  \n",
              "1              |Київстар|Новини|податкова|ДФС|обшук|  новини  \n",
              "2  |багатство|найбагатші люди світу|Новини|бідність|  новини  \n",
              "3                         США|Баскетбол|Флорида|Фото   спорт  \n",
              "4  Служба безпеки України (СБУ)|Финансовая пирами...  бізнес  "
            ],
            "text/html": [
              "\n",
              "  <div id=\"df-5cedde36-aec3-4566-a656-9888bc4e1485\">\n",
              "    <div class=\"colab-df-container\">\n",
              "      <div>\n",
              "<style scoped>\n",
              "    .dataframe tbody tr th:only-of-type {\n",
              "        vertical-align: middle;\n",
              "    }\n",
              "\n",
              "    .dataframe tbody tr th {\n",
              "        vertical-align: top;\n",
              "    }\n",
              "\n",
              "    .dataframe thead th {\n",
              "        text-align: right;\n",
              "    }\n",
              "</style>\n",
              "<table border=\"1\" class=\"dataframe\">\n",
              "  <thead>\n",
              "    <tr style=\"text-align: right;\">\n",
              "      <th></th>\n",
              "      <th>title</th>\n",
              "      <th>text</th>\n",
              "      <th>tags</th>\n",
              "      <th>target</th>\n",
              "    </tr>\n",
              "  </thead>\n",
              "  <tbody>\n",
              "    <tr>\n",
              "      <th>0</th>\n",
              "      <td>ВЕРНИДУБ: «Наносимо 25 ударів, 15 у ворота, а ...</td>\n",
              "      <td>Головний тренер солігорського «Шахтаря» Юрій В...</td>\n",
              "      <td>Футбол|Інші новини|Шахтар Солігорськ|Юрій Верн...</td>\n",
              "      <td>спорт</td>\n",
              "    </tr>\n",
              "    <tr>\n",
              "      <th>1</th>\n",
              "      <td>У \"Київстар\" заявляють, що їх обшукала ДФС</td>\n",
              "      <td>Про це на своїй сторінці у Facebook написав пр...</td>\n",
              "      <td>|Київстар|Новини|податкова|ДФС|обшук|</td>\n",
              "      <td>новини</td>\n",
              "    </tr>\n",
              "    <tr>\n",
              "      <th>2</th>\n",
              "      <td>В 2016 році 1% найзаможніших людей вперше ста...</td>\n",
              "      <td>Про це повідомляється в доповіді некомерційної...</td>\n",
              "      <td>|багатство|найбагатші люди світу|Новини|бідність|</td>\n",
              "      <td>новини</td>\n",
              "    </tr>\n",
              "    <tr>\n",
              "      <th>3</th>\n",
              "      <td>Шакіл О’Ніл продав шикарний маєток у Флориді в...</td>\n",
              "      <td>Легенда НБА Шакіл О’Ніл продав свій маєток у ...</td>\n",
              "      <td>США|Баскетбол|Флорида|Фото</td>\n",
              "      <td>спорт</td>\n",
              "    </tr>\n",
              "    <tr>\n",
              "      <th>4</th>\n",
              "      <td>У «заблокованій» СБУ B2B Jewelry заявили, що п...</td>\n",
              "      <td>Засновник фінансової піраміди B2B Jewelry Мик...</td>\n",
              "      <td>Служба безпеки України (СБУ)|Финансовая пирами...</td>\n",
              "      <td>бізнес</td>\n",
              "    </tr>\n",
              "  </tbody>\n",
              "</table>\n",
              "</div>\n",
              "      <button class=\"colab-df-convert\" onclick=\"convertToInteractive('df-5cedde36-aec3-4566-a656-9888bc4e1485')\"\n",
              "              title=\"Convert this dataframe to an interactive table.\"\n",
              "              style=\"display:none;\">\n",
              "        \n",
              "  <svg xmlns=\"http://www.w3.org/2000/svg\" height=\"24px\"viewBox=\"0 0 24 24\"\n",
              "       width=\"24px\">\n",
              "    <path d=\"M0 0h24v24H0V0z\" fill=\"none\"/>\n",
              "    <path d=\"M18.56 5.44l.94 2.06.94-2.06 2.06-.94-2.06-.94-.94-2.06-.94 2.06-2.06.94zm-11 1L8.5 8.5l.94-2.06 2.06-.94-2.06-.94L8.5 2.5l-.94 2.06-2.06.94zm10 10l.94 2.06.94-2.06 2.06-.94-2.06-.94-.94-2.06-.94 2.06-2.06.94z\"/><path d=\"M17.41 7.96l-1.37-1.37c-.4-.4-.92-.59-1.43-.59-.52 0-1.04.2-1.43.59L10.3 9.45l-7.72 7.72c-.78.78-.78 2.05 0 2.83L4 21.41c.39.39.9.59 1.41.59.51 0 1.02-.2 1.41-.59l7.78-7.78 2.81-2.81c.8-.78.8-2.07 0-2.86zM5.41 20L4 18.59l7.72-7.72 1.47 1.35L5.41 20z\"/>\n",
              "  </svg>\n",
              "      </button>\n",
              "      \n",
              "  <style>\n",
              "    .colab-df-container {\n",
              "      display:flex;\n",
              "      flex-wrap:wrap;\n",
              "      gap: 12px;\n",
              "    }\n",
              "\n",
              "    .colab-df-convert {\n",
              "      background-color: #E8F0FE;\n",
              "      border: none;\n",
              "      border-radius: 50%;\n",
              "      cursor: pointer;\n",
              "      display: none;\n",
              "      fill: #1967D2;\n",
              "      height: 32px;\n",
              "      padding: 0 0 0 0;\n",
              "      width: 32px;\n",
              "    }\n",
              "\n",
              "    .colab-df-convert:hover {\n",
              "      background-color: #E2EBFA;\n",
              "      box-shadow: 0px 1px 2px rgba(60, 64, 67, 0.3), 0px 1px 3px 1px rgba(60, 64, 67, 0.15);\n",
              "      fill: #174EA6;\n",
              "    }\n",
              "\n",
              "    [theme=dark] .colab-df-convert {\n",
              "      background-color: #3B4455;\n",
              "      fill: #D2E3FC;\n",
              "    }\n",
              "\n",
              "    [theme=dark] .colab-df-convert:hover {\n",
              "      background-color: #434B5C;\n",
              "      box-shadow: 0px 1px 3px 1px rgba(0, 0, 0, 0.15);\n",
              "      filter: drop-shadow(0px 1px 2px rgba(0, 0, 0, 0.3));\n",
              "      fill: #FFFFFF;\n",
              "    }\n",
              "  </style>\n",
              "\n",
              "      <script>\n",
              "        const buttonEl =\n",
              "          document.querySelector('#df-5cedde36-aec3-4566-a656-9888bc4e1485 button.colab-df-convert');\n",
              "        buttonEl.style.display =\n",
              "          google.colab.kernel.accessAllowed ? 'block' : 'none';\n",
              "\n",
              "        async function convertToInteractive(key) {\n",
              "          const element = document.querySelector('#df-5cedde36-aec3-4566-a656-9888bc4e1485');\n",
              "          const dataTable =\n",
              "            await google.colab.kernel.invokeFunction('convertToInteractive',\n",
              "                                                     [key], {});\n",
              "          if (!dataTable) return;\n",
              "\n",
              "          const docLinkHtml = 'Like what you see? Visit the ' +\n",
              "            '<a target=\"_blank\" href=https://colab.research.google.com/notebooks/data_table.ipynb>data table notebook</a>'\n",
              "            + ' to learn more about interactive tables.';\n",
              "          element.innerHTML = '';\n",
              "          dataTable['output_type'] = 'display_data';\n",
              "          await google.colab.output.renderOutput(dataTable, element);\n",
              "          const docLink = document.createElement('div');\n",
              "          docLink.innerHTML = docLinkHtml;\n",
              "          element.appendChild(docLink);\n",
              "        }\n",
              "      </script>\n",
              "    </div>\n",
              "  </div>\n",
              "  "
            ]
          },
          "metadata": {},
          "execution_count": 17
        }
      ]
    },
    {
      "cell_type": "code",
      "source": [
        "print(data['tags'].unique(), len(data['tags'].unique()))"
      ],
      "metadata": {
        "colab": {
          "base_uri": "https://localhost:8080/"
        },
        "id": "3k8OC-H6kEDU",
        "outputId": "b8026ead-ab4d-4a45-e093-63d56512b0a1"
      },
      "execution_count": 18,
      "outputs": [
        {
          "output_type": "stream",
          "name": "stdout",
          "text": [
            "['Футбол|Інші новини|Шахтар Солігорськ|Юрій Вернидуб|чемпіонат Білорусі з футболу|Слуцьк'\n",
            " '|Київстар|Новини|податкова|ДФС|обшук|'\n",
            " '|багатство|найбагатші люди світу|Новини|бідність|' ...\n",
            " '|армія|Новини|Грузія|призов|'\n",
            " '|карантин|Єврокомісія|президент Єврокомісії|Урсула фон дер Ляєн|COVID-19|Новини|смерть|'\n",
            " '|ТКГ|війна на Донбасі|війна з Росією|Новини|Нормандський формат|'] 87431\n"
          ]
        }
      ]
    },
    {
      "cell_type": "code",
      "source": [
        "print(data['target'].unique(), len(data['target'].unique()))\n"
      ],
      "metadata": {
        "colab": {
          "base_uri": "https://localhost:8080/"
        },
        "id": "0t-9OQVIk5Fw",
        "outputId": "fc52ecd7-0654-4c1c-ca17-71f3bf51da33"
      },
      "execution_count": 19,
      "outputs": [
        {
          "output_type": "stream",
          "name": "stdout",
          "text": [
            "['спорт' 'новини' 'бізнес' 'політика' 'технології'] 5\n"
          ]
        }
      ]
    },
    {
      "cell_type": "markdown",
      "source": [
        "**ВИБІРКА ДАНИХ**"
      ],
      "metadata": {
        "id": "zUgYJcIUxawt"
      }
    },
    {
      "cell_type": "code",
      "source": [
        "targets = ['спорт', 'новини', 'бізнес']\n",
        "news_in_cat_count = 2000"
      ],
      "metadata": {
        "id": "MQ_aF7crxlaO"
      },
      "execution_count": 20,
      "outputs": []
    },
    {
      "cell_type": "code",
      "source": [
        "df_res = pd.DataFrame()\n",
        "\n",
        "for target in tqdm(targets):\n",
        "    df_target = data[data['target'] == target][:news_in_cat_count]\n",
        "    df_res = df_res.append(df_target, ignore_index=True)"
      ],
      "metadata": {
        "colab": {
          "base_uri": "https://localhost:8080/",
          "height": 49,
          "referenced_widgets": [
            "f8ebe8df06724067a7abb1040d085332",
            "e3f4971f320d430fbe0f502a54452816",
            "ff60df4c31a847758aaa901f96d52f7a",
            "89428df2bc2f4793975e306179651303",
            "8b440e2378a6445baf7a30a5e4cfc38b",
            "57516f7047bf40ff8ca6e3d426d3bc27",
            "1f23ac8744f044eab64ac3a158d4b38a",
            "5d682f0c60e1492fa7b798f9fd96fc5f",
            "c6081b8e6e2e438f8aa10f4e73968024",
            "cf28ff19a808414ebd053740b2e5c6a0",
            "7bc978ab7b0746dfbbd6e8409532150e"
          ]
        },
        "id": "a7_d9crZx_Ma",
        "outputId": "c17d9f8a-127f-4f0d-cb3e-0e324cf031b0"
      },
      "execution_count": 21,
      "outputs": [
        {
          "output_type": "display_data",
          "data": {
            "text/plain": [
              "  0%|          | 0/3 [00:00<?, ?it/s]"
            ],
            "application/vnd.jupyter.widget-view+json": {
              "version_major": 2,
              "version_minor": 0,
              "model_id": "f8ebe8df06724067a7abb1040d085332"
            }
          },
          "metadata": {}
        }
      ]
    },
    {
      "cell_type": "code",
      "source": [
        "df_res.shape"
      ],
      "metadata": {
        "colab": {
          "base_uri": "https://localhost:8080/"
        },
        "id": "TanbnhBByQWG",
        "outputId": "ab080849-d832-4a4c-e906-820163728128"
      },
      "execution_count": 22,
      "outputs": [
        {
          "output_type": "execute_result",
          "data": {
            "text/plain": [
              "(6000, 4)"
            ]
          },
          "metadata": {},
          "execution_count": 22
        }
      ]
    },
    {
      "cell_type": "markdown",
      "source": [
        "**ПЕРЕДОБРОБКА**"
      ],
      "metadata": {
        "id": "VQbLC0zKydAj"
      }
    },
    {
      "cell_type": "code",
      "source": [
        "import string\n",
        "def remove_punctuation(text):\n",
        "    return \"\".join([ch if ch not in string.punctuation else ' ' for ch in text])\n",
        "\n",
        "def remove_numbers(text):\n",
        "    return ''.join([i if not i.isdigit() else ' ' for i in text])\n",
        "\n",
        "import re\n",
        "def remove_multiple_spaces(text):\n",
        "\treturn re.sub(r'\\s+', ' ', text, flags=re.I)\n",
        "\n",
        "from pymystem3 import Mystem\n",
        "from string import punctuation\n",
        "mystem = Mystem() \n",
        "\n",
        "stopwords_ua = pd.read_csv(\"https://raw.githubusercontent.com/skupriienko/Ukrainian-Stopwords/master/stopwords_ua.txt\", header=None, names=['stopwords'])\n",
        "stopwords_ua.at[1983,\"stopwords\"] = \"…\"\n",
        "stopwords_ua.at[1984,\"stopwords\"] = \"«\"\n",
        "stopwords_ua.at[1985,\"stopwords\"] = \"»\"\n",
        "stopwords_ua.at[1986,\"stopwords\"] = \"...\"\n",
        "def lemmatize_text(text):\n",
        "    tokens = mystem.lemmatize(text.lower())\n",
        "    tokens = [token for token in tokens if token not in stopwords_ua and token != \" \"]\n",
        "    text = \" \".join(tokens)\n",
        "    return text\n"
      ],
      "metadata": {
        "id": "I7cjxqC2ykU1"
      },
      "execution_count": 28,
      "outputs": []
    },
    {
      "cell_type": "code",
      "source": [
        "preproccessing = lambda text: (remove_multiple_spaces(remove_numbers(remove_punctuation(text))))"
      ],
      "metadata": {
        "id": "PBlLrR_LA31y"
      },
      "execution_count": 30,
      "outputs": []
    },
    {
      "cell_type": "code",
      "source": [
        "prep_text = [remove_multiple_spaces(remove_numbers(remove_punctuation(text.lower()))) for text in tqdm(df_res['text'])]"
      ],
      "metadata": {
        "colab": {
          "base_uri": "https://localhost:8080/",
          "height": 49,
          "referenced_widgets": [
            "c5cf0fc216cb4364bc71b46de5e7f10c",
            "a32e5ce5124a4b47ad16a4f651328828",
            "453ab411456947fea2e0a8e9316cb8c5",
            "79ff32a98e134b8d8c4e15c41d374f55",
            "80031048318d4b30af6b039c4231e7cf",
            "75e79d67199646b794d8af2794970407",
            "512b74cc617e4dbe8ff4c16b4167751f",
            "1f20e2cdddca415490345804a66709eb",
            "55a52c206ba04258b0f5a073f5dc22fc",
            "d7bec879175041ffa8b3cbf55726050f",
            "3c2091086b064337a68095d87861314b"
          ]
        },
        "id": "8YY-ejXGBj9I",
        "outputId": "3e261fda-3f02-429f-8e8c-267c63feff29"
      },
      "execution_count": 31,
      "outputs": [
        {
          "output_type": "display_data",
          "data": {
            "text/plain": [
              "  0%|          | 0/6000 [00:00<?, ?it/s]"
            ],
            "application/vnd.jupyter.widget-view+json": {
              "version_major": 2,
              "version_minor": 0,
              "model_id": "c5cf0fc216cb4364bc71b46de5e7f10c"
            }
          },
          "metadata": {}
        }
      ]
    },
    {
      "cell_type": "code",
      "source": [
        "len(prep_text)\n",
        "prep_text[0]"
      ],
      "metadata": {
        "colab": {
          "base_uri": "https://localhost:8080/",
          "height": 122
        },
        "id": "UK-ol2S7Bvzy",
        "outputId": "ae4478ac-5bbd-4bb0-bc8a-3c4ffb64040e"
      },
      "execution_count": 32,
      "outputs": [
        {
          "output_type": "execute_result",
          "data": {
            "text/plain": [
              "'головний тренер солігорського «шахтаря» юрій вернидуб на післяматчевій прес конференції пояснив чому його підопічні програли команді «слуцьк» «такого початку я не пам ятаю у своєму житті але що є то є виправдовуватися я не буду якщо команда в тій грі – зі «смолевичами» – завдає удару зараз – або ударів з них у ворота і ми забити не можемо не знаю значить не вміємо ми забивати якщо пенальті ми не можемо реалізувати забивай і було б хвилин часу все могло б бути по іншому але що маємо те маємо у заявці не було сачівка він травму отримав ще в грі зі «смолевичами» у нього міжреберна невралгія не міг вийти у шіндагорідзе проблема з хрестоподібною зв язкою коли це вирішиться я навіть не знаю треба ще робити повторне мрт а так як я так зрозумів у нього вже була така проблема то треба їхати туди де робили але зараз все закрито – проблема чого не вистачило в обороні у першому голі просто йшла подача – і все до цього були удари не було ми навпаки нагнітали були моменти перекладина – не доводили до логічного завершення у них же перша вилазка і штрафний цей до воріт – метрів йшла подача ніхто не торкнувся і гол що говорити сумно» '"
            ],
            "application/vnd.google.colaboratory.intrinsic+json": {
              "type": "string"
            }
          },
          "metadata": {},
          "execution_count": 32
        }
      ]
    },
    {
      "cell_type": "code",
      "source": [
        "df_res['text_prep'] = prep_text"
      ],
      "metadata": {
        "id": "ZKVCvTlLB28r"
      },
      "execution_count": 33,
      "outputs": []
    },
    {
      "cell_type": "code",
      "source": [
        "df_res.head(1)"
      ],
      "metadata": {
        "colab": {
          "base_uri": "https://localhost:8080/",
          "height": 125
        },
        "id": "tGd7GyewKwoo",
        "outputId": "f6d077e6-5c1c-44be-aa0a-ffdc48f90aba"
      },
      "execution_count": 34,
      "outputs": [
        {
          "output_type": "execute_result",
          "data": {
            "text/plain": [
              "                                               title  \\\n",
              "0  ВЕРНИДУБ: «Наносимо 25 ударів, 15 у ворота, а ...   \n",
              "\n",
              "                                                text  \\\n",
              "0  Головний тренер солігорського «Шахтаря» Юрій В...   \n",
              "\n",
              "                                                tags target  \\\n",
              "0  Футбол|Інші новини|Шахтар Солігорськ|Юрій Верн...  спорт   \n",
              "\n",
              "                                           text_prep  \n",
              "0  головний тренер солігорського «шахтаря» юрій в...  "
            ],
            "text/html": [
              "\n",
              "  <div id=\"df-7d595391-ec7d-456e-9f66-bd62db39ecb3\">\n",
              "    <div class=\"colab-df-container\">\n",
              "      <div>\n",
              "<style scoped>\n",
              "    .dataframe tbody tr th:only-of-type {\n",
              "        vertical-align: middle;\n",
              "    }\n",
              "\n",
              "    .dataframe tbody tr th {\n",
              "        vertical-align: top;\n",
              "    }\n",
              "\n",
              "    .dataframe thead th {\n",
              "        text-align: right;\n",
              "    }\n",
              "</style>\n",
              "<table border=\"1\" class=\"dataframe\">\n",
              "  <thead>\n",
              "    <tr style=\"text-align: right;\">\n",
              "      <th></th>\n",
              "      <th>title</th>\n",
              "      <th>text</th>\n",
              "      <th>tags</th>\n",
              "      <th>target</th>\n",
              "      <th>text_prep</th>\n",
              "    </tr>\n",
              "  </thead>\n",
              "  <tbody>\n",
              "    <tr>\n",
              "      <th>0</th>\n",
              "      <td>ВЕРНИДУБ: «Наносимо 25 ударів, 15 у ворота, а ...</td>\n",
              "      <td>Головний тренер солігорського «Шахтаря» Юрій В...</td>\n",
              "      <td>Футбол|Інші новини|Шахтар Солігорськ|Юрій Верн...</td>\n",
              "      <td>спорт</td>\n",
              "      <td>головний тренер солігорського «шахтаря» юрій в...</td>\n",
              "    </tr>\n",
              "  </tbody>\n",
              "</table>\n",
              "</div>\n",
              "      <button class=\"colab-df-convert\" onclick=\"convertToInteractive('df-7d595391-ec7d-456e-9f66-bd62db39ecb3')\"\n",
              "              title=\"Convert this dataframe to an interactive table.\"\n",
              "              style=\"display:none;\">\n",
              "        \n",
              "  <svg xmlns=\"http://www.w3.org/2000/svg\" height=\"24px\"viewBox=\"0 0 24 24\"\n",
              "       width=\"24px\">\n",
              "    <path d=\"M0 0h24v24H0V0z\" fill=\"none\"/>\n",
              "    <path d=\"M18.56 5.44l.94 2.06.94-2.06 2.06-.94-2.06-.94-.94-2.06-.94 2.06-2.06.94zm-11 1L8.5 8.5l.94-2.06 2.06-.94-2.06-.94L8.5 2.5l-.94 2.06-2.06.94zm10 10l.94 2.06.94-2.06 2.06-.94-2.06-.94-.94-2.06-.94 2.06-2.06.94z\"/><path d=\"M17.41 7.96l-1.37-1.37c-.4-.4-.92-.59-1.43-.59-.52 0-1.04.2-1.43.59L10.3 9.45l-7.72 7.72c-.78.78-.78 2.05 0 2.83L4 21.41c.39.39.9.59 1.41.59.51 0 1.02-.2 1.41-.59l7.78-7.78 2.81-2.81c.8-.78.8-2.07 0-2.86zM5.41 20L4 18.59l7.72-7.72 1.47 1.35L5.41 20z\"/>\n",
              "  </svg>\n",
              "      </button>\n",
              "      \n",
              "  <style>\n",
              "    .colab-df-container {\n",
              "      display:flex;\n",
              "      flex-wrap:wrap;\n",
              "      gap: 12px;\n",
              "    }\n",
              "\n",
              "    .colab-df-convert {\n",
              "      background-color: #E8F0FE;\n",
              "      border: none;\n",
              "      border-radius: 50%;\n",
              "      cursor: pointer;\n",
              "      display: none;\n",
              "      fill: #1967D2;\n",
              "      height: 32px;\n",
              "      padding: 0 0 0 0;\n",
              "      width: 32px;\n",
              "    }\n",
              "\n",
              "    .colab-df-convert:hover {\n",
              "      background-color: #E2EBFA;\n",
              "      box-shadow: 0px 1px 2px rgba(60, 64, 67, 0.3), 0px 1px 3px 1px rgba(60, 64, 67, 0.15);\n",
              "      fill: #174EA6;\n",
              "    }\n",
              "\n",
              "    [theme=dark] .colab-df-convert {\n",
              "      background-color: #3B4455;\n",
              "      fill: #D2E3FC;\n",
              "    }\n",
              "\n",
              "    [theme=dark] .colab-df-convert:hover {\n",
              "      background-color: #434B5C;\n",
              "      box-shadow: 0px 1px 3px 1px rgba(0, 0, 0, 0.15);\n",
              "      filter: drop-shadow(0px 1px 2px rgba(0, 0, 0, 0.3));\n",
              "      fill: #FFFFFF;\n",
              "    }\n",
              "  </style>\n",
              "\n",
              "      <script>\n",
              "        const buttonEl =\n",
              "          document.querySelector('#df-7d595391-ec7d-456e-9f66-bd62db39ecb3 button.colab-df-convert');\n",
              "        buttonEl.style.display =\n",
              "          google.colab.kernel.accessAllowed ? 'block' : 'none';\n",
              "\n",
              "        async function convertToInteractive(key) {\n",
              "          const element = document.querySelector('#df-7d595391-ec7d-456e-9f66-bd62db39ecb3');\n",
              "          const dataTable =\n",
              "            await google.colab.kernel.invokeFunction('convertToInteractive',\n",
              "                                                     [key], {});\n",
              "          if (!dataTable) return;\n",
              "\n",
              "          const docLinkHtml = 'Like what you see? Visit the ' +\n",
              "            '<a target=\"_blank\" href=https://colab.research.google.com/notebooks/data_table.ipynb>data table notebook</a>'\n",
              "            + ' to learn more about interactive tables.';\n",
              "          element.innerHTML = '';\n",
              "          dataTable['output_type'] = 'display_data';\n",
              "          await google.colab.output.renderOutput(dataTable, element);\n",
              "          const docLink = document.createElement('div');\n",
              "          docLink.innerHTML = docLinkHtml;\n",
              "          element.appendChild(docLink);\n",
              "        }\n",
              "      </script>\n",
              "    </div>\n",
              "  </div>\n",
              "  "
            ]
          },
          "metadata": {},
          "execution_count": 34
        }
      ]
    },
    {
      "cell_type": "markdown",
      "source": [
        "**Стемінг**"
      ],
      "metadata": {
        "id": "_xJGEgawQfYt"
      }
    },
    {
      "cell_type": "code",
      "source": [
        "import re\n",
        "from uk_stemmer import UkStemmer\n",
        "from nltk.stem.snowball import SnowballStemmer \n",
        "from nltk.tokenize import word_tokenize\n",
        "stemmer = UkStemmer()\n",
        "stopwords_ua = pd.read_csv(\"https://raw.githubusercontent.com/skupriienko/Ukrainian-Stopwords/master/stopwords_ua.txt\", header=None, names=['stopwords'])\n",
        "stopwords_ua.at[1983,\"stopwords\"] = \"…\"\n",
        "stopwords_ua.at[1984,\"stopwords\"] = \"«\"\n",
        "stopwords_ua.at[1985,\"stopwords\"] = \"»\"\n",
        "stopwords_ua.at[1986,\"stopwords\"] = \"...\"\n"
      ],
      "metadata": {
        "id": "KENTmps9QhYp"
      },
      "execution_count": 35,
      "outputs": []
    },
    {
      "cell_type": "code",
      "source": [
        "text = df_res['text_prep'][0]\n",
        "word_tokenize(text) "
      ],
      "metadata": {
        "id": "hs3q_rD2Ro8P"
      },
      "execution_count": null,
      "outputs": []
    },
    {
      "cell_type": "code",
      "source": [
        "stemmed_texts_list = []\n",
        "for text in tqdm(df_res['text_prep']):\n",
        "    tokens = word_tokenize(text)    \n",
        "    stemmed_tokens = [stemmer.stem_word(token) for token in tokens if token not in stopwords_ua]\n",
        "    text = \" \".join(stemmed_tokens)\n",
        "    stemmed_texts_list.append(text)\n",
        "\n",
        "df_res['text_stem'] = stemmed_texts_list\n"
      ],
      "metadata": {
        "colab": {
          "base_uri": "https://localhost:8080/",
          "height": 49,
          "referenced_widgets": [
            "e42c2da33208459fa22285923c850b2a",
            "84918b72dd6a4e5aa5002f91598fb873",
            "94129183697e477a8e82ef2cc37fb8fd",
            "b42db8de60504c34b1f46f4f4c61d7c9",
            "9204399545684118a276845585a1db28",
            "c7f21e68a34449eaa8709ac88a356ae3",
            "414900db23a34b0996ae32e36197ec8e",
            "210e348389f345b99d72ace3b03cc854",
            "422c4d67de844355a259be317b8448c6",
            "2674b39d4d2045ddaae8e333c4fa3a24",
            "dbfbc73d59dc4d88b8eac754677d7dcf"
          ]
        },
        "id": "N3uRqFwvUIIb",
        "outputId": "c903b6ff-45ea-447d-cd9a-9469574db2e4"
      },
      "execution_count": 39,
      "outputs": [
        {
          "output_type": "display_data",
          "data": {
            "text/plain": [
              "  0%|          | 0/6000 [00:00<?, ?it/s]"
            ],
            "application/vnd.jupyter.widget-view+json": {
              "version_major": 2,
              "version_minor": 0,
              "model_id": "e42c2da33208459fa22285923c850b2a"
            }
          },
          "metadata": {}
        }
      ]
    },
    {
      "cell_type": "code",
      "source": [
        "def remove_stop_words(text):\n",
        "    tokens = word_tokenize(text) \n",
        "    tokens = [token for token in tokens if token not in stopwords_ua and token != ' ']\n",
        "    return \" \".join(tokens)\n"
      ],
      "metadata": {
        "id": "SRPgQnZDU23G"
      },
      "execution_count": 40,
      "outputs": []
    },
    {
      "cell_type": "code",
      "source": [
        "from nltk import word_tokenize\n",
        "\n",
        "sw_texts_list = []\n",
        "for text in tqdm(df_res['text_prep']):\n",
        "    tokens = word_tokenize(text)    \n",
        "    tokens = [token for token in tokens if token not in stopwords_ua and token != ' ']\n",
        "    text = \" \".join(tokens)\n",
        "    sw_texts_list.append(text)\n",
        "\n",
        "df_res['text_sw'] = sw_texts_list"
      ],
      "metadata": {
        "colab": {
          "base_uri": "https://localhost:8080/",
          "height": 49,
          "referenced_widgets": [
            "441e9efa7d21420cb11cf9b0f2c25525",
            "6aa9776c3ed84593b872e28849c52a29",
            "489f31660d5147839353ced3103f591a",
            "51c0909931b84e469828b3622de6eb15",
            "bc69bd0a80d44384a17848527aac31f1",
            "b0260fbbf4074828bbc1b31941335cd0",
            "bac1d33c1e734226a4b2be8f89d2d419",
            "0da303edfe73450dac9cf6816f4b5c99",
            "4e77bb19fffb415da7db24a6a7d761ed",
            "960e3cab02d24acfa6552eff2de7438a",
            "12fc93356c30451e91d78185e76108cc"
          ]
        },
        "id": "XN8rSBg4VhSm",
        "outputId": "83990c80-3b78-42f7-da88-7ec6c76826a0"
      },
      "execution_count": 41,
      "outputs": [
        {
          "output_type": "display_data",
          "data": {
            "text/plain": [
              "  0%|          | 0/6000 [00:00<?, ?it/s]"
            ],
            "application/vnd.jupyter.widget-view+json": {
              "version_major": 2,
              "version_minor": 0,
              "model_id": "441e9efa7d21420cb11cf9b0f2c25525"
            }
          },
          "metadata": {}
        }
      ]
    },
    {
      "cell_type": "code",
      "source": [
        "df_res['text_sw'][0]"
      ],
      "metadata": {
        "colab": {
          "base_uri": "https://localhost:8080/",
          "height": 122
        },
        "id": "IXG7AriYVp6E",
        "outputId": "6029e1d9-1abc-463f-f726-a8f606d7ff1c"
      },
      "execution_count": 42,
      "outputs": [
        {
          "output_type": "execute_result",
          "data": {
            "text/plain": [
              "'головний тренер солігорського « шахтаря » юрій вернидуб на післяматчевій прес конференції пояснив чому його підопічні програли команді « слуцьк » « такого початку я не пам ятаю у своєму житті але що є то є виправдовуватися я не буду якщо команда в тій грі – зі « смолевичами » – завдає удару зараз – або ударів з них у ворота і ми забити не можемо не знаю значить не вміємо ми забивати якщо пенальті ми не можемо реалізувати забивай і було б хвилин часу все могло б бути по іншому але що маємо те маємо у заявці не було сачівка він травму отримав ще в грі зі « смолевичами » у нього міжреберна невралгія не міг вийти у шіндагорідзе проблема з хрестоподібною зв язкою коли це вирішиться я навіть не знаю треба ще робити повторне мрт а так як я так зрозумів у нього вже була така проблема то треба їхати туди де робили але зараз все закрито – проблема чого не вистачило в обороні у першому голі просто йшла подача – і все до цього були удари не було ми навпаки нагнітали були моменти перекладина – не доводили до логічного завершення у них же перша вилазка і штрафний цей до воріт – метрів йшла подача ніхто не торкнувся і гол що говорити сумно »'"
            ],
            "application/vnd.google.colaboratory.intrinsic+json": {
              "type": "string"
            }
          },
          "metadata": {},
          "execution_count": 42
        }
      ]
    },
    {
      "cell_type": "code",
      "source": [
        "df_res['text_stem'][0]"
      ],
      "metadata": {
        "colab": {
          "base_uri": "https://localhost:8080/",
          "height": 122
        },
        "id": "7z6PUIVCV0JZ",
        "outputId": "60c66d70-c9b8-4184-f755-f6d17b2ca9e3"
      },
      "execution_count": 43,
      "outputs": [
        {
          "output_type": "execute_result",
          "data": {
            "text/plain": [
              "'головн тренер солігорськ « шахтар » юр вернидуб на післяматчев прес конференці поясн чом йог підопічн прогр команд « слуцьк » « так початк я не пам ят у своєм житт ал що є то є виправдовув я не буд якщ команд в ті грі – зі « смолевич » – завд удар зараз – аб удар з них у ворот і ми забит не можем не зна значит не вмієм ми забив якщ пенальт ми не можем реалізув забива і бул б хвилин час все могл б бут по інш ал що маєм те маєм у заявц не бул сачівк він травм отрим ще в грі зі « смолевич » у ньог міжреберн невралг не міг вийт у шіндагорідз проблем з хрестоподібн зв язк кол це вирішит я навіт не зна треб ще робит повторн мрт а так як я так зрозум у ньог вже бул так проблем то треб їх туд де робил ал зараз все закрит – проблем чог не вистачил в оборон у перш гол прост йшла подач – і все до цьог бул удар не бул ми навпак нагніт бул момент перекладин – не доводил до логічн завершенн у них же перш вилазк і штрафн це до воріт – метр йшла подач ніхт не торкнув і гол що говорит сумн »'"
            ],
            "application/vnd.google.colaboratory.intrinsic+json": {
              "type": "string"
            }
          },
          "metadata": {},
          "execution_count": 43
        }
      ]
    },
    {
      "cell_type": "markdown",
      "source": [
        "**NAIVE BAYES CLASSIFIER**\n"
      ],
      "metadata": {
        "id": "CeaHzD-JbFq_"
      }
    },
    {
      "cell_type": "code",
      "source": [
        "X = df_res['text_sw']\n",
        "y = df_res['target']"
      ],
      "metadata": {
        "id": "ubCpTL3MbpAp"
      },
      "execution_count": 44,
      "outputs": []
    },
    {
      "cell_type": "code",
      "source": [
        "from sklearn.model_selection import train_test_split\n",
        "X_train, X_test, y_train, y_test = train_test_split(X, y, test_size=0.3, random_state = 42)"
      ],
      "metadata": {
        "id": "j07z566Ub27g"
      },
      "execution_count": 46,
      "outputs": []
    },
    {
      "cell_type": "code",
      "source": [
        "my_tags = df_res['target'].unique()\n",
        "my_tags"
      ],
      "metadata": {
        "colab": {
          "base_uri": "https://localhost:8080/"
        },
        "id": "r5EeMkojb5vC",
        "outputId": "7f4381ae-523c-40c1-f767-c33600dc6ccc"
      },
      "execution_count": 47,
      "outputs": [
        {
          "output_type": "execute_result",
          "data": {
            "text/plain": [
              "array(['спорт', 'новини', 'бізнес'], dtype=object)"
            ]
          },
          "metadata": {},
          "execution_count": 47
        }
      ]
    },
    {
      "cell_type": "code",
      "source": [
        "from sklearn.naive_bayes import MultinomialNB\n",
        "from sklearn.pipeline import Pipeline\n",
        "from sklearn.feature_extraction.text import TfidfTransformer\n",
        "from sklearn.feature_extraction.text import CountVectorizer"
      ],
      "metadata": {
        "id": "x2dzD1cWbOco"
      },
      "execution_count": 48,
      "outputs": []
    },
    {
      "cell_type": "code",
      "source": [
        "nb = Pipeline([('vect', CountVectorizer()),\n",
        "               ('tfidf', TfidfTransformer()),\n",
        "               ('clf', MultinomialNB()),\n",
        "              ])"
      ],
      "metadata": {
        "id": "FxhyZEOGbXJx"
      },
      "execution_count": 49,
      "outputs": []
    },
    {
      "cell_type": "code",
      "source": [
        "%%time\n",
        "nb.fit(X_train, y_train)"
      ],
      "metadata": {
        "colab": {
          "base_uri": "https://localhost:8080/"
        },
        "id": "JY_FOIxwbY1I",
        "outputId": "0a3194ec-03e6-4cf9-e06a-cdcfa2f361ea"
      },
      "execution_count": 50,
      "outputs": [
        {
          "output_type": "stream",
          "name": "stdout",
          "text": [
            "CPU times: user 2.44 s, sys: 153 ms, total: 2.59 s\n",
            "Wall time: 2.7 s\n"
          ]
        },
        {
          "output_type": "execute_result",
          "data": {
            "text/plain": [
              "Pipeline(steps=[('vect', CountVectorizer()), ('tfidf', TfidfTransformer()),\n",
              "                ('clf', MultinomialNB())])"
            ]
          },
          "metadata": {},
          "execution_count": 50
        }
      ]
    },
    {
      "cell_type": "code",
      "source": [
        "%%time\n",
        "from sklearn.metrics import classification_report\n",
        "y_pred = nb.predict(X_test)"
      ],
      "metadata": {
        "colab": {
          "base_uri": "https://localhost:8080/"
        },
        "id": "M_X5kokBccLg",
        "outputId": "118c3bcc-4e95-4e00-f7cf-102283753dae"
      },
      "execution_count": 51,
      "outputs": [
        {
          "output_type": "stream",
          "name": "stdout",
          "text": [
            "CPU times: user 349 ms, sys: 24 ms, total: 373 ms\n",
            "Wall time: 376 ms\n"
          ]
        }
      ]
    },
    {
      "cell_type": "code",
      "source": [
        "y_pred[0]"
      ],
      "metadata": {
        "colab": {
          "base_uri": "https://localhost:8080/",
          "height": 35
        },
        "id": "gq2Uyompceu5",
        "outputId": "9ce8c7ef-833f-4e16-9ad0-a16911884377"
      },
      "execution_count": 52,
      "outputs": [
        {
          "output_type": "execute_result",
          "data": {
            "text/plain": [
              "'спорт'"
            ],
            "application/vnd.google.colaboratory.intrinsic+json": {
              "type": "string"
            }
          },
          "metadata": {},
          "execution_count": 52
        }
      ]
    },
    {
      "cell_type": "code",
      "source": [
        "from sklearn.metrics import accuracy_score\n",
        "\n",
        "print('accuracy %s' % accuracy_score(y_pred, y_test))\n",
        "print(classification_report(y_test, y_pred, target_names=my_tags))\n"
      ],
      "metadata": {
        "colab": {
          "base_uri": "https://localhost:8080/"
        },
        "id": "DEdnOsdHcnX6",
        "outputId": "b25731d6-5146-4ae8-a9db-1ec75522366c"
      },
      "execution_count": 53,
      "outputs": [
        {
          "output_type": "stream",
          "name": "stdout",
          "text": [
            "accuracy 0.9011111111111111\n",
            "              precision    recall  f1-score   support\n",
            "\n",
            "       спорт       0.78      0.99      0.87       575\n",
            "      новини       0.98      0.73      0.84       591\n",
            "      бізнес       0.99      0.97      0.98       634\n",
            "\n",
            "    accuracy                           0.90      1800\n",
            "   macro avg       0.92      0.90      0.90      1800\n",
            "weighted avg       0.92      0.90      0.90      1800\n",
            "\n"
          ]
        }
      ]
    },
    {
      "cell_type": "markdown",
      "source": [
        "**LINEAR SUPPORT VECTOR MACHINE**\n"
      ],
      "metadata": {
        "id": "R9hOFNBjdTO-"
      }
    },
    {
      "cell_type": "code",
      "source": [
        "from sklearn.linear_model import SGDClassifier\n",
        "\n",
        "sgd = Pipeline([('vect', CountVectorizer()),\n",
        "                ('tfidf', TfidfTransformer()),\n",
        "                ('clf', SGDClassifier(loss='hinge', penalty='l2',alpha=1e-3, random_state=42, max_iter=5, tol=None)),\n",
        "               ])"
      ],
      "metadata": {
        "id": "NFbjLrnAdX0Q"
      },
      "execution_count": 54,
      "outputs": []
    },
    {
      "cell_type": "code",
      "source": [
        "%%time\n",
        "sgd.fit(X_train, y_train)"
      ],
      "metadata": {
        "colab": {
          "base_uri": "https://localhost:8080/"
        },
        "id": "EHGTGyoHdZ7j",
        "outputId": "ccdbb6ff-4cdf-48bd-bbf2-f8ec12c00b78"
      },
      "execution_count": 55,
      "outputs": [
        {
          "output_type": "stream",
          "name": "stdout",
          "text": [
            "CPU times: user 1.33 s, sys: 139 ms, total: 1.47 s\n",
            "Wall time: 1.42 s\n"
          ]
        },
        {
          "output_type": "execute_result",
          "data": {
            "text/plain": [
              "Pipeline(steps=[('vect', CountVectorizer()), ('tfidf', TfidfTransformer()),\n",
              "                ('clf',\n",
              "                 SGDClassifier(alpha=0.001, max_iter=5, random_state=42,\n",
              "                               tol=None))])"
            ]
          },
          "metadata": {},
          "execution_count": 55
        }
      ]
    },
    {
      "cell_type": "code",
      "source": [
        "%%time\n",
        "y_pred = sgd.predict(X_test)"
      ],
      "metadata": {
        "colab": {
          "base_uri": "https://localhost:8080/"
        },
        "id": "v5n2x9frddfx",
        "outputId": "1ad06482-c836-4154-cf5e-5bb1031566a5"
      },
      "execution_count": 56,
      "outputs": [
        {
          "output_type": "stream",
          "name": "stdout",
          "text": [
            "CPU times: user 340 ms, sys: 7.66 ms, total: 348 ms\n",
            "Wall time: 351 ms\n"
          ]
        }
      ]
    },
    {
      "cell_type": "code",
      "source": [
        "print('accuracy %s' % accuracy_score(y_pred, y_test))\n",
        "print(classification_report(y_test, y_pred,target_names=my_tags))"
      ],
      "metadata": {
        "colab": {
          "base_uri": "https://localhost:8080/"
        },
        "id": "_W1lpWo-dgJU",
        "outputId": "19cb2d28-2f05-43b2-fcd0-43b808a19dcd"
      },
      "execution_count": 57,
      "outputs": [
        {
          "output_type": "stream",
          "name": "stdout",
          "text": [
            "accuracy 0.9583333333333334\n",
            "              precision    recall  f1-score   support\n",
            "\n",
            "       спорт       0.92      0.98      0.94       575\n",
            "      новини       0.97      0.91      0.94       591\n",
            "      бізнес       0.99      0.99      0.99       634\n",
            "\n",
            "    accuracy                           0.96      1800\n",
            "   macro avg       0.96      0.96      0.96      1800\n",
            "weighted avg       0.96      0.96      0.96      1800\n",
            "\n"
          ]
        }
      ]
    },
    {
      "cell_type": "markdown",
      "source": [
        "**LOGISTIC REGRESSION**"
      ],
      "metadata": {
        "id": "vx89345sd0s7"
      }
    },
    {
      "cell_type": "code",
      "source": [
        "from sklearn.linear_model import LogisticRegression\n",
        "\n",
        "logreg = Pipeline([('vect', CountVectorizer()),\n",
        "                ('tfidf', TfidfTransformer()),\n",
        "                ('clf', LogisticRegression(n_jobs=1, C=1e5)),\n",
        "               ])"
      ],
      "metadata": {
        "id": "z4Ab8wcid2sU"
      },
      "execution_count": 58,
      "outputs": []
    },
    {
      "cell_type": "code",
      "source": [
        "%%time\n",
        "logreg.fit(X_train, y_train)"
      ],
      "metadata": {
        "colab": {
          "base_uri": "https://localhost:8080/"
        },
        "id": "bGR72ZUAd-mJ",
        "outputId": "fed1110f-360d-44de-c5db-361dcfe22b9d"
      },
      "execution_count": 59,
      "outputs": [
        {
          "output_type": "stream",
          "name": "stdout",
          "text": [
            "CPU times: user 9.08 s, sys: 6.84 s, total: 15.9 s\n",
            "Wall time: 9.17 s\n"
          ]
        },
        {
          "output_type": "stream",
          "name": "stderr",
          "text": [
            "/usr/local/lib/python3.7/dist-packages/sklearn/linear_model/_logistic.py:818: ConvergenceWarning: lbfgs failed to converge (status=1):\n",
            "STOP: TOTAL NO. of ITERATIONS REACHED LIMIT.\n",
            "\n",
            "Increase the number of iterations (max_iter) or scale the data as shown in:\n",
            "    https://scikit-learn.org/stable/modules/preprocessing.html\n",
            "Please also refer to the documentation for alternative solver options:\n",
            "    https://scikit-learn.org/stable/modules/linear_model.html#logistic-regression\n",
            "  extra_warning_msg=_LOGISTIC_SOLVER_CONVERGENCE_MSG,\n"
          ]
        },
        {
          "output_type": "execute_result",
          "data": {
            "text/plain": [
              "Pipeline(steps=[('vect', CountVectorizer()), ('tfidf', TfidfTransformer()),\n",
              "                ('clf', LogisticRegression(C=100000.0, n_jobs=1))])"
            ]
          },
          "metadata": {},
          "execution_count": 59
        }
      ]
    },
    {
      "cell_type": "code",
      "source": [
        "%%time\n",
        "y_pred = logreg.predict(X_test)\n"
      ],
      "metadata": {
        "colab": {
          "base_uri": "https://localhost:8080/"
        },
        "id": "WsiHnXwSePYC",
        "outputId": "de10677d-6d67-4f6d-da97-a47c808a83f3"
      },
      "execution_count": 60,
      "outputs": [
        {
          "output_type": "stream",
          "name": "stdout",
          "text": [
            "CPU times: user 360 ms, sys: 3.68 ms, total: 363 ms\n",
            "Wall time: 365 ms\n"
          ]
        }
      ]
    },
    {
      "cell_type": "code",
      "source": [
        "print('accuracy %s' % accuracy_score(y_pred, y_test))\n",
        "print(classification_report(y_test, y_pred,target_names=my_tags))"
      ],
      "metadata": {
        "colab": {
          "base_uri": "https://localhost:8080/"
        },
        "id": "tB8qfYH0eRY9",
        "outputId": "8fc1326c-1cbc-4c49-9025-bd3826329ec6"
      },
      "execution_count": 61,
      "outputs": [
        {
          "output_type": "stream",
          "name": "stdout",
          "text": [
            "accuracy 0.9633333333333334\n",
            "              precision    recall  f1-score   support\n",
            "\n",
            "       спорт       0.94      0.96      0.95       575\n",
            "      новини       0.95      0.94      0.95       591\n",
            "      бізнес       0.99      0.99      0.99       634\n",
            "\n",
            "    accuracy                           0.96      1800\n",
            "   macro avg       0.96      0.96      0.96      1800\n",
            "weighted avg       0.96      0.96      0.96      1800\n",
            "\n"
          ]
        }
      ]
    },
    {
      "cell_type": "markdown",
      "source": [
        "**ПЕРЕВІРКА НА ПРИКЛАДІ**"
      ],
      "metadata": {
        "id": "4CNe3DxAe0L1"
      }
    },
    {
      "cell_type": "code",
      "source": [
        "business_text = \"Долар США вважається символом надійності, безпеки та економічного процвітання. Він займає незаперечне домінуюче становище у середині ХХ століття. враження непереможного титану. Однак ера панування долара як основної світової резервної валюти повільно добігає кінця. Найбільші банки пророкують йому різкий спад уже наступного року, а відомий економіст Стівен Роуч упевнений, що американська валюта може знецінитись на третину. Причинами обвалення стануть скорочення заощаджень населення, зростання державного боргу США та посилення Китаю. Захід доларового диктату – у матеріалі «Ленты.ру». Надмірні привілеї Успіх американської економіки у XX столітті був багато в чому обумовлений домінуючою роллю долара. У свою чергу досягнення цієї ролі стало результатом політичної та військової переваги, яку США набули після Першої світової війни. Досі позиція долара у світі фінансів є головною основою процвітання США. Однак у 2002 році намітилася довгострокова тенденція до послаблення американської валюти, яка спостерігається і сьогодні. Справді, останнім часом долар почуватиметься не дуже добре. Зокрема, липень виявився дуже складним місяцем для американської валюти, яка відновила.\""
      ],
      "metadata": {
        "id": "AZn24oEke2v_"
      },
      "execution_count": 62,
      "outputs": []
    },
    {
      "cell_type": "code",
      "source": [
        "business_text = remove_multiple_spaces(remove_numbers(remove_punctuation(business_text.lower())))\n",
        "business_text = remove_stop_words(business_text)"
      ],
      "metadata": {
        "id": "2Sc16w2PfMoy"
      },
      "execution_count": 64,
      "outputs": []
    },
    {
      "cell_type": "code",
      "source": [
        "business_text"
      ],
      "metadata": {
        "colab": {
          "base_uri": "https://localhost:8080/",
          "height": 122
        },
        "id": "h862kLwnfPXv",
        "outputId": "38612d6c-b288-4fb3-8500-4a4a14f3e861"
      },
      "execution_count": 67,
      "outputs": [
        {
          "output_type": "execute_result",
          "data": {
            "text/plain": [
              "'долар сша вважається символом надійності безпеки та економічного процвітання він займає незаперечне домінуюче становище у середині хх століття враження непереможного титану однак ера панування долара як основної світової резервної валюти повільно добігає кінця найбільші банки пророкують йому різкий спад уже наступного року а відомий економіст стівен роуч упевнений що американська валюта може знецінитись на третину причинами обвалення стануть скорочення заощаджень населення зростання державного боргу сша та посилення китаю захід доларового диктату – у матеріалі « ленты ру » надмірні привілеї успіх американської економіки у xx столітті був багато в чому обумовлений домінуючою роллю долара у свою чергу досягнення цієї ролі стало результатом політичної та військової переваги яку сша набули після першої світової війни досі позиція долара у світі фінансів є головною основою процвітання сша однак у році намітилася довгострокова тенденція до послаблення американської валюти яка спостерігається і сьогодні справді останнім часом долар почуватиметься не дуже добре зокрема липень виявився дуже складним місяцем для американської валюти яка відновила'"
            ],
            "application/vnd.google.colaboratory.intrinsic+json": {
              "type": "string"
            }
          },
          "metadata": {},
          "execution_count": 67
        }
      ]
    },
    {
      "cell_type": "code",
      "source": [
        "business_pred = logreg.predict([business_text])\n",
        "business_pred"
      ],
      "metadata": {
        "colab": {
          "base_uri": "https://localhost:8080/"
        },
        "id": "H8vUm9rvfZ8O",
        "outputId": "66b91757-2df4-43b6-a5e8-05a7ba0ff6cd"
      },
      "execution_count": 68,
      "outputs": [
        {
          "output_type": "execute_result",
          "data": {
            "text/plain": [
              "array(['бізнес'], dtype=object)"
            ]
          },
          "metadata": {},
          "execution_count": 68
        }
      ]
    },
    {
      "cell_type": "code",
      "source": [
        "sport_text = \"І в чому тоді був не правий Флік, коли вже за кілька хвилин зробив аналогічну заміну з появою в грі Нікласа Фюллькруга, якого за виступами за бременський «Вердер» знають хіба що затяті фанаті німецької Бундесліги? А він тим часом з’явився на полі, і одразу ж став гідною мішенню для передач партнерів. Одна з таких, на 83 хвилині від Мусіали, який перевів пас із глибини від Сане до правого флангу штрафного, завершилась ударом у дальній кут. Завдяки цьому «Бундестім» урятували не тільки цю гру, але й власну можливість впливати на долю другої перепустки до плей-оф.\""
      ],
      "metadata": {
        "id": "z0fQfQa_ffSM"
      },
      "execution_count": 69,
      "outputs": []
    },
    {
      "cell_type": "code",
      "source": [
        "sport_text = remove_multiple_spaces(remove_numbers(remove_punctuation(sport_text.lower())))\n",
        "sport_text = remove_stop_words(sport_text)"
      ],
      "metadata": {
        "id": "mZ7ECQoTgA0s"
      },
      "execution_count": 70,
      "outputs": []
    },
    {
      "cell_type": "code",
      "source": [
        "sport_pred = logreg.predict([sport_text])\n",
        "sport_pred"
      ],
      "metadata": {
        "colab": {
          "base_uri": "https://localhost:8080/"
        },
        "id": "CZwcWU5kgI8k",
        "outputId": "9bf39d86-c316-46e7-af22-755f150e09cf"
      },
      "execution_count": 71,
      "outputs": [
        {
          "output_type": "execute_result",
          "data": {
            "text/plain": [
              "array(['спорт'], dtype=object)"
            ]
          },
          "metadata": {},
          "execution_count": 71
        }
      ]
    },
    {
      "cell_type": "code",
      "source": [
        "news_text = \"На початку тижня Україна перейде до планових графіків відключення електрики — YASNOОрієнтовно 28-29 листопада в Україні буде поновлено графік планових відключень електроенергії. Про це в ефірі загальнонаціонального телемарафону заявив генеральний директор енергетичної компанії YASNO Сергій Коваленко.Говоритимемо моїми персональними прогнозами. Я розраховую, що завтра чи у вівторок (28 чи 29 листопада — ред.) ми повернемось до звичних графіків. Але це залежить від запуску генерації та деяких моментів, — зазначив він.\""
      ],
      "metadata": {
        "id": "tzGAGux7gPHM"
      },
      "execution_count": 72,
      "outputs": []
    },
    {
      "cell_type": "code",
      "source": [
        "news_text = remove_multiple_spaces(remove_numbers(remove_punctuation(news_text.lower())))\n",
        "news_text = remove_stop_words(news_text)"
      ],
      "metadata": {
        "id": "tvY9QWv8g49G"
      },
      "execution_count": 73,
      "outputs": []
    },
    {
      "cell_type": "code",
      "source": [
        "news_pred = logreg.predict([news_text])\n",
        "news_pred"
      ],
      "metadata": {
        "colab": {
          "base_uri": "https://localhost:8080/"
        },
        "id": "FugD7Z59g9P_",
        "outputId": "6b461100-234e-42d8-b7f7-b1634c5a3107"
      },
      "execution_count": 74,
      "outputs": [
        {
          "output_type": "execute_result",
          "data": {
            "text/plain": [
              "array(['новини'], dtype=object)"
            ]
          },
          "metadata": {},
          "execution_count": 74
        }
      ]
    }
  ]
}